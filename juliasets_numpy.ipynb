{
 "cells": [
  {
   "cell_type": "code",
   "execution_count": 52,
   "metadata": {
    "collapsed": false,
    "scrolled": true
   },
   "outputs": [
    {
     "ename": "SyntaxError",
     "evalue": "invalid syntax (<ipython-input-52-c7e16865bee1>, line 1)",
     "output_type": "error",
     "traceback": [
      "\u001b[1;36m  File \u001b[1;32m\"<ipython-input-52-c7e16865bee1>\"\u001b[1;36m, line \u001b[1;32m1\u001b[0m\n\u001b[1;33m    version = 3.2numpy\u001b[0m\n\u001b[1;37m                     ^\u001b[0m\n\u001b[1;31mSyntaxError\u001b[0m\u001b[1;31m:\u001b[0m invalid syntax\n"
     ]
    }
   ],
   "source": [
    "version = 4.0\n",
    "\n",
    "import numpy\n",
    "#import time\n",
    "\n",
    "class JuliaSet(object):\n",
    "    def __init__(self, c, n=100):\n",
    "        self.c = c\n",
    "        self.n = n\n",
    "        self._d = .001\n",
    "        self.set = numpy.array([])\n",
    "        self._complexplane = numpy.array([])\n",
    "        \n",
    "    def juliamap(self, z):\n",
    "        return z**2 + self.c\n",
    "    \n",
    "    def iterate(self, z):\n",
    "        m = 0\n",
    "        while True:\n",
    "            z = self.juliamap(z)\n",
    "            m +=1\n",
    "            if abs(z)>2:\n",
    "                return m\n",
    "            elif m>=self.n:\n",
    "                return 0\n",
    "        \n",
    "    def gen_complexplane(self, d=0):\n",
    "        if(d==self._d and len(self._complexplane)>1):\n",
    "            return\n",
    "        if(d>0):\n",
    "            self._d=d\n",
    "            increment=d\n",
    "        else:\n",
    "            increment =self._d\n",
    "        array = numpy.arange(-2,2,increment)\n",
    "        numpy.append(array,2)\n",
    "        o = numpy.ones(len(array))\n",
    "        p = numpy.array([])\n",
    "        for q in array:\n",
    "            r=o*q\n",
    "            p=numpy.append(p, r+(array*1j))\n",
    "        self._complexplane=p\n",
    "                \n",
    "    def set_spacing(self, d):\n",
    "        self._d = d\n",
    "        self.gen_complexplane()\n",
    "        #print('spacing is now ' + repr(self._d) )\n",
    "        \n",
    "    def generate(self):\n",
    "        self.set = [self.iterate(z) for z in self._complexplane]\n",
    "        return self.set\n",
    "    \n",
    "js = JuliaSet(complex(1,1),10)\n",
    "js.iterate(complex(1,1))\n",
    "js.set_spacing(.1)\n",
    "js.generate()\n",
    "    "
   ]
  },
  {
   "cell_type": "code",
   "execution_count": null,
   "metadata": {
    "collapsed": true
   },
   "outputs": [],
   "source": []
  }
 ],
 "metadata": {
  "kernelspec": {
   "display_name": "Python 2",
   "language": "python",
   "name": "python2"
  },
  "language_info": {
   "codemirror_mode": {
    "name": "ipython",
    "version": 2
   },
   "file_extension": ".py",
   "mimetype": "text/x-python",
   "name": "python",
   "nbconvert_exporter": "python",
   "pygments_lexer": "ipython2",
   "version": "2.7.9"
  },
  "name": "juliasets_numpy.ipynb"
 },
 "nbformat": 4,
 "nbformat_minor": 0
}
